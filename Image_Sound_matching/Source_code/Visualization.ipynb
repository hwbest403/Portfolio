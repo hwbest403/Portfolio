{
 "cells": [
  {
   "cell_type": "markdown",
   "id": "b614d74d-20b7-4007-b31a-8590149f00d2",
   "metadata": {},
   "source": [
    "# Import"
   ]
  },
  {
   "cell_type": "code",
   "execution_count": 15,
   "id": "e64fd584-3fff-4139-8b46-464024395517",
   "metadata": {},
   "outputs": [],
   "source": [
    "import numpy as np\n",
    "import json\n",
    "import os, os.path\n",
    "import keras\n",
    "import tensorflow as tf\n",
    "import warnings\n",
    "import matplotlib.image as mpimg\n",
    "import matplotlib.pyplot as plt\n",
    "import cv2\n",
    "warnings.filterwarnings('ignore')\n",
    "from keras.layers import Conv2D, Activation, MaxPool2D, MaxPooling2D, Flatten, Dense, Dropout\n",
    "from keras.models import Sequential, load_model\n",
    "from keras.preprocessing import image\n",
    "from keras.preprocessing.image import ImageDataGenerator\n",
    "from sklearn.model_selection import train_test_split\n",
    "\n",
    "from IPython.display import SVG\n",
    "from keras.utils.vis_utils import model_to_dot\n",
    "import pydot\n",
    "import graphviz\n",
    "from tensorflow.keras.utils import plot_model\n",
    "\n",
    "%matplotlib inline\n",
    "import sys\n",
    "input = sys.stdin.readline"
   ]
  },
  {
   "cell_type": "markdown",
   "id": "ed9db452-b2b4-472d-903b-7b47333937dc",
   "metadata": {},
   "source": [
    "# Visualization"
   ]
  },
  {
   "cell_type": "code",
   "execution_count": 11,
   "id": "c7fdd453-f459-409a-b914-a6f6cbf6baf8",
   "metadata": {},
   "outputs": [],
   "source": [
    "# model load\n",
    "categori = ['교통', '농기계', '생활가전', '요리', '운동', '전통']\n",
    "model = dict()\n",
    "for cate in categori :\n",
    "    model[cate] = load_model('model/'+cate+'model.h5')"
   ]
  },
  {
   "cell_type": "markdown",
   "id": "78f6c2bf-fe2f-45c4-8d52-daec4204cb46",
   "metadata": {},
   "source": [
    "### 1. Model Shape"
   ]
  },
  {
   "cell_type": "code",
   "execution_count": 10,
   "id": "f86fc480-5b06-4fcd-94c5-a07db2cb47b5",
   "metadata": {},
   "outputs": [
    {
     "name": "stdout",
     "output_type": "stream",
     "text": [
      "1. 교통_model\n",
      "2. 농기계_model\n",
      "3. 생활가전_model\n",
      "4. 요리_model\n",
      "5. 운동_model\n",
      "6. 전통_model\n"
     ]
    }
   ],
   "source": [
    "idx = 1\n",
    "for n, m in model.items() :\n",
    "    print(f\"{idx}. {n}_model\")\n",
    "    plot_model(m, to_file=f'{n}_model_shapes.png', show_shapes=True)\n",
    "    idx += 1"
   ]
  },
  {
   "cell_type": "markdown",
   "id": "b2431177-43c0-43c4-8735-5f9071e54e06",
   "metadata": {},
   "source": [
    "### 2. Image shape"
   ]
  },
  {
   "cell_type": "code",
   "execution_count": null,
   "id": "88aa1b6e-db06-4ced-8c1f-b69beca46dcf",
   "metadata": {},
   "outputs": [],
   "source": []
  },
  {
   "cell_type": "markdown",
   "id": "25836b21-ed69-4288-88d2-e1232f894a7c",
   "metadata": {},
   "source": [
    "### Final. Mapping"
   ]
  },
  {
   "cell_type": "code",
   "execution_count": 24,
   "id": "5964e1a9-71dd-42bc-9426-de4c0b5dfe39",
   "metadata": {},
   "outputs": [
    {
     "name": "stdout",
     "output_type": "stream",
     "text": [
      "Image To Sound\n",
      "\n",
      "분류할 이미지의 카테고리 6개 중 하나를 골라주세요.\n",
      "1. 교통\n",
      "2. 농기계\n",
      "3. 생활가전\n",
      "4. 요리\n",
      "5. 운동\n",
      "6. 전통\n"
     ]
    }
   ],
   "source": [
    "print(f\"Image To Sound\")\n",
    "print()\n",
    "print(f\"분류할 이미지의 카테고리 6개 중 하나를 골라주세요.\")\n",
    "for idx, cate in enumerate(categori) :\n",
    "    print(f\"{idx+1}. {cate}\")"
   ]
  },
  {
   "cell_type": "code",
   "execution_count": null,
   "id": "d6891352-1eee-4ebb-af5c-59a528f7f1ab",
   "metadata": {},
   "outputs": [],
   "source": []
  }
 ],
 "metadata": {
  "kernelspec": {
   "display_name": "Python 3",
   "language": "python",
   "name": "python3"
  },
  "language_info": {
   "codemirror_mode": {
    "name": "ipython",
    "version": 3
   },
   "file_extension": ".py",
   "mimetype": "text/x-python",
   "name": "python",
   "nbconvert_exporter": "python",
   "pygments_lexer": "ipython3",
   "version": "3.8.8"
  }
 },
 "nbformat": 4,
 "nbformat_minor": 5
}
